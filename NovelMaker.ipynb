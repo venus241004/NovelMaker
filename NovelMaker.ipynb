{
 "cells": [
  {
   "cell_type": "markdown",
   "id": "f9337010",
   "metadata": {},
   "source": [
    "# HuggingFace_PipeLine"
   ]
  },
  {
   "cell_type": "markdown",
   "id": "5e0250a3",
   "metadata": {},
   "source": [
    "https://huggingface.co/Qwen/Qwen2.5-0.5B-Instruct-GGUF\n",
    "\n",
    "qwen2.5-0.5b-instruct-q4_k_m.gguf\n",
    "\n",
    "Qwen2.5 is the latest series of Qwen large language models. For Qwen2.5, we release a number of base language models and instruction-tuned language models ranging from 0.5 to 72 billion parameters. Qwen2.5 brings the following improvements upon Qw\n",
    "Significant improvements in instruction following, generating long texts (over 8K tokens), understanding structured data (e.g, tables), and generating structured outputs especially JSON. More resilient to the diversity of system prompts, enhancing role-play implementation and condition-setting for chatbots.\n",
    "Long-context Support up to 128K tokens and can generate up to 8K tokens.\n",
    "Multilingual support for over 29 languages, including Chinese, English, French, Spanish, Portuguese, German, Italian, Russian, Japanese, Korean, Vietnamese, Thai, Arabic, and more.\n",
    "\n",
    "### 언어모델"
   ]
  },
  {
   "cell_type": "code",
   "execution_count": null,
   "id": "e4edf95c",
   "metadata": {},
   "outputs": [
    {
     "name": "stdout",
     "output_type": "stream",
     "text": [
      "Found existing installation: llama_cpp_python 0.3.16\n",
      "Uninstalling llama_cpp_python-0.3.16:\n",
      "  Successfully uninstalled llama_cpp_python-0.3.16\n"
     ]
    },
    {
     "name": "stderr",
     "output_type": "stream",
     "text": [
      "WARNING: Skipping llama-cpp-python-cu121 as it is not installed.\n",
      "WARNING: Skipping llama-cpp-python-cu118 as it is not installed.\n"
     ]
    },
    {
     "name": "stdout",
     "output_type": "stream",
     "text": [
      "Collecting llama-cpp-python\n",
      "  Downloading llama_cpp_python-0.3.16.tar.gz (50.7 MB)\n",
      "     ---------------------------------------- 0.0/50.7 MB ? eta -:--:--\n",
      "     - -------------------------------------- 1.6/50.7 MB 16.6 MB/s eta 0:00:03\n",
      "     ---- ----------------------------------- 5.2/50.7 MB 17.7 MB/s eta 0:00:03\n",
      "     ------- ------------------------------- 10.0/50.7 MB 19.4 MB/s eta 0:00:03\n",
      "     ---------- ---------------------------- 13.6/50.7 MB 19.0 MB/s eta 0:00:02\n",
      "     ------------ -------------------------- 15.7/50.7 MB 17.1 MB/s eta 0:00:03\n",
      "     ------------- ------------------------- 18.1/50.7 MB 16.3 MB/s eta 0:00:03\n",
      "     -------------- ------------------------ 18.9/50.7 MB 14.7 MB/s eta 0:00:03\n",
      "     --------------- ----------------------- 20.2/50.7 MB 12.7 MB/s eta 0:00:03\n",
      "     ---------------- ---------------------- 21.0/50.7 MB 11.7 MB/s eta 0:00:03\n",
      "     ----------------- --------------------- 22.8/50.7 MB 11.4 MB/s eta 0:00:03\n",
      "     ------------------- ------------------- 25.7/50.7 MB 11.7 MB/s eta 0:00:03\n",
      "     ---------------------- ---------------- 28.8/50.7 MB 12.0 MB/s eta 0:00:02\n",
      "     -------------------------- ------------ 34.3/50.7 MB 13.1 MB/s eta 0:00:02\n",
      "     --------------------------- ----------- 36.2/50.7 MB 12.9 MB/s eta 0:00:02\n",
      "     ---------------------------- ---------- 36.4/50.7 MB 12.1 MB/s eta 0:00:02\n",
      "     ---------------------------- ---------- 37.2/50.7 MB 11.8 MB/s eta 0:00:02\n",
      "     ----------------------------- --------- 38.8/50.7 MB 11.1 MB/s eta 0:00:02\n",
      "     ---------------------------------- ---- 44.8/50.7 MB 12.1 MB/s eta 0:00:01\n",
      "     ------------------------------------ -- 47.4/50.7 MB 12.1 MB/s eta 0:00:01\n",
      "     --------------------------------------  49.8/50.7 MB 12.1 MB/s eta 0:00:01\n",
      "     --------------------------------------  50.6/50.7 MB 12.0 MB/s eta 0:00:01\n",
      "     --------------------------------------- 50.7/50.7 MB 11.4 MB/s eta 0:00:00\n",
      "  Installing build dependencies: started\n",
      "  Installing build dependencies: finished with status 'done'\n",
      "  Getting requirements to build wheel: started\n",
      "  Getting requirements to build wheel: finished with status 'done'\n",
      "  Installing backend dependencies: started\n",
      "  Installing backend dependencies: finished with status 'done'\n",
      "  Preparing metadata (pyproject.toml): started\n",
      "  Preparing metadata (pyproject.toml): finished with status 'done'\n",
      "Requirement already satisfied: typing-extensions>=4.5.0 in c:\\users\\venus\\anaconda3\\envs\\hg_pl\\lib\\site-packages (from llama-cpp-python) (4.15.0)\n",
      "Requirement already satisfied: numpy>=1.20.0 in c:\\users\\venus\\anaconda3\\envs\\hg_pl\\lib\\site-packages (from llama-cpp-python) (2.3.2)\n",
      "Requirement already satisfied: diskcache>=5.6.1 in c:\\users\\venus\\anaconda3\\envs\\hg_pl\\lib\\site-packages (from llama-cpp-python) (5.6.3)\n",
      "Requirement already satisfied: jinja2>=2.11.3 in c:\\users\\venus\\anaconda3\\envs\\hg_pl\\lib\\site-packages (from llama-cpp-python) (3.1.6)\n",
      "Requirement already satisfied: MarkupSafe>=2.0 in c:\\users\\venus\\anaconda3\\envs\\hg_pl\\lib\\site-packages (from jinja2>=2.11.3->llama-cpp-python) (3.0.2)\n",
      "Building wheels for collected packages: llama-cpp-python\n",
      "  Building wheel for llama-cpp-python (pyproject.toml): started\n",
      "  Building wheel for llama-cpp-python (pyproject.toml): finished with status 'error'\n",
      "Failed to build llama-cpp-python\n"
     ]
    },
    {
     "name": "stderr",
     "output_type": "stream",
     "text": [
      "  error: subprocess-exited-with-error\n",
      "  \n",
      "  × Building wheel for llama-cpp-python (pyproject.toml) did not run successfully.\n",
      "  │ exit code: 1\n",
      "  ╰─> [20 lines of output]\n",
      "      \u001b[32m*** \u001b[1mscikit-build-core 0.11.6\u001b[0m using \u001b[34mCMake 4.1.0\u001b[39m\u001b[0m \u001b[31m(wheel)\u001b[0m\n",
      "      \u001b[32m***\u001b[0m \u001b[1mConfiguring CMake...\u001b[0m\n",
      "      2025-08-28 15:30:15,114 - scikit_build_core - WARNING - Can't find a Python library, got libdir=None, ldlibrary=None, multiarch=None, masd=None\n",
      "      loading initial cache file C:\\Users\\venus\\AppData\\Local\\Temp\\tmpf3an4j0b\\build\\CMakeInit.txt\n",
      "      -- Building for: NMake Makefiles\n",
      "      \u001b[31mCMake Error at CMakeLists.txt:3 (project):\n",
      "        Running\n",
      "      \n",
      "         'nmake' '-?'\n",
      "      \n",
      "        failed with:\n",
      "      \n",
      "         no such file or directory\n",
      "      \n",
      "      \u001b[0m\n",
      "      \u001b[0mCMake Error: CMAKE_C_COMPILER not set, after EnableLanguage\u001b[0m\n",
      "      \u001b[0mCMake Error: CMAKE_CXX_COMPILER not set, after EnableLanguage\u001b[0m\n",
      "      -- Configuring incomplete, errors occurred!\n",
      "      \u001b[31m\n",
      "      \u001b[1m***\u001b[0m \u001b[31mCMake configuration failed\u001b[0m\n",
      "      [end of output]\n",
      "  \n",
      "  note: This error originates from a subprocess, and is likely not a problem with pip.\n",
      "  ERROR: Failed building wheel for llama-cpp-python\n",
      "ERROR: Failed to build installable wheels for some pyproject.toml based projects (llama-cpp-python)\n"
     ]
    }
   ],
   "source": [
    "!pip uninstall -y llama-cpp-python llama-cpp-python-cu121 llama-cpp-python-cu118\n",
    "!pip install llama-cpp-python\n",
    "# GTX 을 위하여... ㅠㅠ"
   ]
  },
  {
   "cell_type": "code",
   "execution_count": 18,
   "id": "b52c5cae",
   "metadata": {},
   "outputs": [
    {
     "name": "stdout",
     "output_type": "stream",
     "text": [
      "C:\\Users\\venus\\.cache\\huggingface\\hub\\models--Qwen--Qwen2.5-0.5B-Instruct-GGUF\\snapshots\\9217f5db79a29953eb74d5343926648285ec7e67\\qwen2.5-0.5b-instruct-q4_k_m.gguf\n"
     ]
    }
   ],
   "source": [
    "from huggingface_hub import hf_hub_download\n",
    "\n",
    "model_path = hf_hub_download(repo_id=\"Qwen/Qwen2.5-0.5B-Instruct-GGUF\", filename = \"qwen2.5-0.5b-instruct-q4_k_m.gguf\") # 다운로드 파일의 local path 저장\n",
    "print(model_path)"
   ]
  },
  {
   "cell_type": "code",
   "execution_count": 24,
   "id": "75ff432d",
   "metadata": {},
   "outputs": [
    {
     "name": "stderr",
     "output_type": "stream",
     "text": [
      "llama_context: n_ctx_per_seq (2048) < n_ctx_train (32768) -- the full capacity of the model will not be utilized\n"
     ]
    }
   ],
   "source": [
    "from llama_cpp import Llama\n",
    "from huggingface_hub import hf_hub_download\n",
    "import os\n",
    "\n",
    "# 모델 다운로드 & 로드\n",
    "model_path = hf_hub_download(\n",
    "    repo_id=\"Qwen/Qwen2.5-0.5B-Instruct-GGUF\",\n",
    "    filename=\"qwen2.5-0.5b-instruct-q4_k_m.gguf\"\n",
    ")\n",
    "\n",
    "llm = Llama(\n",
    "    model_path=model_path,\n",
    "    n_ctx=2048,     \n",
    "    n_threads= max(4, os.cpu_count() - 2),\n",
    "    n_batch=256,    \n",
    "    n_gpu_layers=0,  # CPU 전용 GTX 1050...\n",
    "    verbose=False      # ← 로그 숨김\n",
    ")"
   ]
  },
  {
   "cell_type": "code",
   "execution_count": 29,
   "id": "60e29efd",
   "metadata": {},
   "outputs": [
    {
     "name": "stdout",
     "output_type": "stream",
     "text": [
      "\n",
      "====== 📖 현재까지의 이야기 (통합 출력) ======\n",
      "\n",
      "[1] 샛별이라는 고양이는 마법사가 키우는 고양이였다. 어느날 마법사가 말했다. 샛별아 잠시동안 나는 집을 떠나게 되었단다. 그동안 집을 지켜줄 수 있겠니? 샛별이는 아무것도 모른채 야옹이라고 대답했다. 그때까지 모르고 있었다. 샛별이의 주인이 돌아오지 않을 것이란 사실을... 샛별이는 하루가 지나고 이틀이 지나고 언젠간 주인이 돌아올 것이라 믿으며 꼬박 1년을 기다렸다. 그러나 주인은 돌아오지 않았다. 주인이 자신을 버렸으리라 생각하지 않는 순수한 고양이인 샛별은 주인이 길을 잃어버렸으리라 생각했다. 그래서 샛별이는 집을 나섰다. 주인을 찾기위해, 주인을 찾아서 집으로 함께 돌아오기 위해 말이다. 샛별이가 집을 나서고 처음으로 방문한 곳은 언덕아래 마을이었다. 언덕아래 마을은 사람들이 무리지어 살고 있었는데 그곳에 사는 사람들은 고양이를 싫어하기 때문에 주인이 가지말라고 당부했었다. 그러나 샛별이는 주인을 찾기 위해 사람이 사는 마을로 가야만 한다고 생각했다. 마을에 도착하자 사람들은 샛별이를 바라보며 기분나쁘다는 표정을 지었다. 순수한 샛별이는 괜찮으리라 생각하며 걸어나갔다. 그때 마을의 한 사람이 멀리서 샛별이에게 돌을 던졌고, 아무것도 모르는 샛별이가 돌을 맞으려는 순간...! 옆에서 누군가 돌을 막아주었다. 샛별이가 놀란 눈으로 올려다보자 그곳엔 빨간머리를 가진 한 소녀가 있었다.\n",
      "\n",
      "[2] [제약] 한 문단만, 줄바꿈 0~1회, 반복 표현 자제\n",
      "\n",
      "[3] 나는 그 소녀에게 말했다. 당신이 고양이를 싫어하는 이유가 무엇일까? 당신은 고양이는 심지어 가족과도 사랑하지 않는 분들이 있다는 것을 알고 있는 거다. 하지만 이들은 고양이를 사랑하는 사람들과 같은 사람들을 위해 싸우는 거야. 고양이의 손을 잡는 것은 그저 고양이가 싫어하는 사람들에게만 가능하다는 거야. 고양이는 심지어 가족과도 사랑하지 않는 사람들을 위해 싸우는 거야. 그들은 고양이를 사랑하는 사람들과 같은 사람들을 위해\n",
      "\n",
      "\n",
      "✅ 저장 완료: C:\\NLP\\practing\\story.json\n",
      "✅ story.txt 저장 완료\n"
     ]
    }
   ],
   "source": [
    "from llama_cpp import Llama\n",
    "from huggingface_hub import hf_hub_download\n",
    "import os, json\n",
    "from pathlib import Path\n",
    "\n",
    "SAVE_PATH = Path(\"story.json\")\n",
    "\n",
    "def load_story():\n",
    "    if SAVE_PATH.exists():\n",
    "        with open(SAVE_PATH, \"r\", encoding=\"utf-8\") as f:\n",
    "            return json.load(f)\n",
    "    return []\n",
    "\n",
    "def save_txt(story, txt_path=\"story.txt\"):\n",
    "    with open(txt_path, \"w\", encoding=\"utf-8\") as f:\n",
    "        f.write(\"소설 초안\\n\\n\")\n",
    "        for i, p in enumerate(story, 1):\n",
    "            f.write(f\"[{i}] {p}\\n\\n\")\n",
    "\n",
    "def save_story(story):\n",
    "    with open(SAVE_PATH, \"w\", encoding=\"utf-8\") as f:\n",
    "        json.dump(story, f, ensure_ascii=False, indent=2)\n",
    "\n",
    "def continue_paragraph(paragraphs, genre=\"판타지 미스터리\", style=\"감성 묘사\"):\n",
    "    guide = (\n",
    "        f\"[역할] 한국어 문학 소설가\\n\"\n",
    "        f\"[장르] {genre}\\n\"\n",
    "        f\"[스타일] {style} / 문장은 자연스럽고 연결성 있게, 과장된 추상 표현 금지\\n\"\n",
    "        f\"[제약] 한 문단만, 줄바꿈 0~1회, 반복 표현 자제\\n\"\n",
    "    )\n",
    "    sofar = \"\\n\\n\".join(paragraphs)\n",
    "    prompt = (\n",
    "        f\"{guide}\\n\"\n",
    "        f\"지금까지의 이야기:\\n{sofar}\\n\\n\"\n",
    "        f\"[다음 문단]\\n\"\n",
    "    )\n",
    "    out = llm(\n",
    "        prompt,\n",
    "        max_tokens=140,\n",
    "        temperature=0.6,\n",
    "        top_p=0.8,\n",
    "        top_k=40,\n",
    "        repeat_penalty=1.07,\n",
    "        stop=[\"\\n\\n\\n\",\"###\",\"</s>\"]\n",
    "    )\n",
    "    text = out[\"choices\"][0][\"text\"].strip()\n",
    "    return text.split(\"\\n\\n\")[0].strip()\n",
    "\n",
    "story = load_story()\n",
    "if not story:\n",
    "    start = input(\"소설 첫 문장을 입력하세요: \")\n",
    "    story = [start]\n",
    "\n",
    "turns = int(input(\"이번에 몇 문단을 더 이어 쓸까요? (예: 2): \") or \"2\")\n",
    "for _ in range(turns):\n",
    "    story.append(continue_paragraph(story))\n",
    "\n",
    "print(\"\\n====== 📖 현재까지의 이야기 (통합 출력) ======\\n\")\n",
    "for i, para in enumerate(story, 1):\n",
    "    print(f\"[{i}] {para}\\n\")\n",
    "\n",
    "# 저장\n",
    "save_story(story)\n",
    "print(f\"\\n✅ 저장 완료: {SAVE_PATH.resolve()}\")\n",
    "\n",
    "save_txt(story)\n",
    "print(\"✅ story.txt 저장 완료\")\n",
    "# llm(prompt, ... )"
   ]
  }
 ],
 "metadata": {
  "kernelspec": {
   "display_name": "hg_pl",
   "language": "python",
   "name": "python3"
  },
  "language_info": {
   "codemirror_mode": {
    "name": "ipython",
    "version": 3
   },
   "file_extension": ".py",
   "mimetype": "text/x-python",
   "name": "python",
   "nbconvert_exporter": "python",
   "pygments_lexer": "ipython3",
   "version": "3.11.13"
  }
 },
 "nbformat": 4,
 "nbformat_minor": 5
}
